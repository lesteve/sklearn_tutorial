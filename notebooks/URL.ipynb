{
 "metadata": {
  "kernelspec": {
   "display_name": "Python 3",
   "language": "python",
   "name": "python3"
  },
  "language_info": {
   "codemirror_mode": {
    "name": "ipython",
    "version": 3
   },
   "file_extension": ".py",
   "mimetype": "text/x-python",
   "name": "python",
   "nbconvert_exporter": "python",
   "pygments_lexer": "ipython3",
   "version": "3.3.5"
  },
  "name": ""
 },
 "nbformat": 3,
 "nbformat_minor": 0,
 "worksheets": [
  {
   "cells": [
    {
     "cell_type": "markdown",
     "metadata": {},
     "source": [
      "# Scikit-Learn Tutorial\n",
      "\n",
      "---\n",
      "\n",
      "<br><br><br>\n",
      "\n",
      "# Download all materials here:\n",
      "# http://github.com/jakevdp/sklearn_tutorial\n",
      "\n",
      "<br><br><br><br><br><br>\n",
      "\n",
      "---"
     ]
    }
   ],
   "metadata": {}
  }
 ]
}
